{
 "cells": [
  {
   "cell_type": "code",
   "execution_count": 1,
   "id": "f51c22d1",
   "metadata": {},
   "outputs": [],
   "source": [
    "# Importing Required Libraries\n",
    "import pandas as pd\n",
    "import numpy as np\n",
    "import matplotlib.pyplot as plt\n",
    "import seaborn as sns\n",
    "from sklearn.model_selection import train_test_split\n",
    "from sklearn.linear_model import LinearRegression\n",
    "from sklearn.metrics import mean_squared_error, r2_score\n",
    "from statsmodels.api import OLS, add_constant\n",
    "from statsmodels.stats.outliers_influence import variance_inflation_factor\n",
    "import ipywidgets as widgets\n",
    "from IPython.display import display\n",
    "from io import BytesIO"
   ]
  },
  {
   "cell_type": "code",
   "execution_count": 3,
   "id": "bfe4495d",
   "metadata": {},
   "outputs": [
    {
     "data": {
      "application/vnd.jupyter.widget-view+json": {
       "model_id": "1831853b5c83414babb63f651eedf475",
       "version_major": 2,
       "version_minor": 0
      },
      "text/plain": [
       "FileUpload(value=(), accept='.csv', description='Upload')"
      ]
     },
     "metadata": {},
     "output_type": "display_data"
    },
    {
     "data": {
      "application/vnd.jupyter.widget-view+json": {
       "model_id": "d44867aed9484ca7b483f39b134c4aed",
       "version_major": 2,
       "version_minor": 0
      },
      "text/plain": [
       "Output()"
      ]
     },
     "metadata": {},
     "output_type": "display_data"
    }
   ],
   "source": [
    "# Step 1: Data Upload Function\n",
    "def upload_data_ui():\n",
    "    \"\"\"UI for uploading data and displaying the preview.\"\"\"\n",
    "    upload_widget = widgets.FileUpload(accept='.csv', multiple=False)\n",
    "    output = widgets.Output()\n",
    "\n",
    "    def on_upload_change(change):\n",
    "        global user_df\n",
    "        if upload_widget.value:\n",
    "            try:\n",
    "                # Extract the uploaded file from the tuple structure\n",
    "                uploaded_file = list(upload_widget.value.values())[0] if isinstance(upload_widget.value, dict) else upload_widget.value[0]\n",
    "                content = uploaded_file['content']\n",
    "\n",
    "                # Read the CSV file into a DataFrame\n",
    "                user_df = pd.read_csv(BytesIO(content))\n",
    "\n",
    "                # Display a preview of the dataset\n",
    "                with output:\n",
    "                    output.clear_output()\n",
    "                    print(\"Dataset Preview:\")\n",
    "                    display(user_df.head())\n",
    "            except Exception as e:\n",
    "                with output:\n",
    "                    output.clear_output()\n",
    "                    print(f\"Error loading file: {e}\")\n",
    "\n",
    "    upload_widget.observe(on_upload_change, names='value')\n",
    "    display(upload_widget, output)\n",
    "\n",
    "# Placeholder for user-uploaded data\n",
    "user_df = pd.DataFrame()\n",
    "\n",
    "# Display the UI for data upload\n",
    "upload_data_ui()"
   ]
  },
  {
   "cell_type": "code",
   "execution_count": 9,
   "id": "a71a3863",
   "metadata": {},
   "outputs": [
    {
     "data": {
      "application/vnd.jupyter.widget-view+json": {
       "model_id": "48815a9c8c4b4809b085326c69d15856",
       "version_major": 2,
       "version_minor": 0
      },
      "text/plain": [
       "Dropdown(description='Select Model:', options=('Simple Linear Regression', 'Multiple Linear Regression'), valu…"
      ]
     },
     "metadata": {},
     "output_type": "display_data"
    },
    {
     "data": {
      "application/vnd.jupyter.widget-view+json": {
       "model_id": "1abc05375cb54e09ad32b0c662d6971e",
       "version_major": 2,
       "version_minor": 0
      },
      "text/plain": [
       "Button(description='Proceed', style=ButtonStyle())"
      ]
     },
     "metadata": {},
     "output_type": "display_data"
    },
    {
     "data": {
      "application/vnd.jupyter.widget-view+json": {
       "model_id": "4404b7c845854a47ad1281cd1f85cd77",
       "version_major": 2,
       "version_minor": 0
      },
      "text/plain": [
       "Button(description='Clear', style=ButtonStyle())"
      ]
     },
     "metadata": {},
     "output_type": "display_data"
    },
    {
     "data": {
      "application/vnd.jupyter.widget-view+json": {
       "model_id": "1bbb33933ed9426489c08fdb773948bf",
       "version_major": 2,
       "version_minor": 0
      },
      "text/plain": [
       "Output()"
      ]
     },
     "metadata": {},
     "output_type": "display_data"
    }
   ],
   "source": [
    "# Step 3: Model Selection UI\n",
    "def model_selection_ui():\n",
    "    \"\"\"UI for selecting between Simple Linear Regression and Multiple Linear Regression.\"\"\"\n",
    "    model_selector = widgets.Dropdown(\n",
    "        options=['Simple Linear Regression', 'Multiple Linear Regression'],\n",
    "        value='Simple Linear Regression',\n",
    "        description='Select Model:'\n",
    "    )\n",
    "\n",
    "    proceed_button = widgets.Button(description=\"Proceed\")\n",
    "    clear_button = widgets.Button(description=\"Clear\")\n",
    "    output = widgets.Output()\n",
    "\n",
    "    def on_proceed_click(b):\n",
    "        with output:\n",
    "            output.clear_output()\n",
    "            selected_model = model_selector.value\n",
    "            print(f\"You selected: {selected_model}\")\n",
    "            if selected_model == 'Simple Linear Regression':\n",
    "                simple_linear_regression_ui()\n",
    "            elif selected_model == 'Multiple Linear Regression':\n",
    "                multiple_linear_regression_ui()\n",
    "\n",
    "    def on_clear_click(b):\n",
    "        with output:\n",
    "            output.clear_output()\n",
    "            print(\"Selection cleared. Please choose a model again.\")\n",
    "\n",
    "    proceed_button.on_click(on_proceed_click)\n",
    "    clear_button.on_click(on_clear_click)\n",
    "    display(model_selector, proceed_button, clear_button, output)\n",
    "\n",
    "# UI for Simple Linear Regression\n",
    "def simple_linear_regression_ui():\n",
    "    \"\"\"UI for configuring and running Simple Linear Regression.\"\"\"\n",
    "    target_selector = widgets.Dropdown(\n",
    "        options=user_df.select_dtypes(include=[np.number]).columns.tolist(),\n",
    "        description='Target:'\n",
    "    )\n",
    "\n",
    "    predictor_selector = widgets.Dropdown(\n",
    "        options=user_df.columns.tolist(),\n",
    "        description='Predictor:'\n",
    "    )\n",
    "\n",
    "    run_button = widgets.Button(description=\"Run Simple Regression\")\n",
    "    output = widgets.Output()\n",
    "\n",
    "    def on_run_click(b):\n",
    "        with output:\n",
    "            output.clear_output()\n",
    "            target = target_selector.value\n",
    "            predictor = predictor_selector.value\n",
    "\n",
    "            if not target or not predictor:\n",
    "                print(\"Please select both a target and a predictor variable.\")\n",
    "                return\n",
    "\n",
    "            X = user_df[[predictor]]\n",
    "            y = user_df[target]\n",
    "\n",
    "            model = LinearRegression()\n",
    "            model.fit(X, y)\n",
    "\n",
    "            # Generate predictions\n",
    "            y_pred = model.predict(X)\n",
    "\n",
    "            # Calculate R-squared\n",
    "            r_squared = model.score(X, y)\n",
    "\n",
    "            # Plot the scatter plot with regression line\n",
    "            plt.figure(figsize=(8, 6))\n",
    "            plt.scatter(X, y, alpha=0.7, label=\"Data\")\n",
    "            plt.plot(X, y_pred, color='red', label=\"Regression Line\")\n",
    "            plt.title(\"Simple Linear Regression\")\n",
    "            plt.xlabel(predictor)\n",
    "            plt.ylabel(target)\n",
    "            plt.legend()\n",
    "            plt.show()\n",
    "\n",
    "            # Display equation and R-squared\n",
    "            coef = model.coef_[0]\n",
    "            intercept = model.intercept_\n",
    "            print(f\"Equation: y = {coef:.2f}x + {intercept:.2f}\")\n",
    "            print(f\"R-squared: {r_squared:.4f}\")\n",
    "\n",
    "    run_button.on_click(on_run_click)\n",
    "    display(target_selector, predictor_selector, run_button, output)\n",
    "\n",
    "# UI for Multiple Linear Regression\n",
    "def multiple_linear_regression_ui():\n",
    "    \"\"\"UI for configuring and running Multiple Linear Regression.\"\"\"\n",
    "    target_selector = widgets.Dropdown(\n",
    "        options=user_df.select_dtypes(include=[np.number]).columns.tolist(),\n",
    "        description='Target:'\n",
    "    )\n",
    "\n",
    "    predictor_selector = widgets.SelectMultiple(\n",
    "        options=user_df.columns.tolist(),\n",
    "        description='Predictors:'\n",
    "    )\n",
    "\n",
    "    run_button = widgets.Button(description=\"Run Multiple Regression\")\n",
    "    output = widgets.Output()\n",
    "\n",
    "    def on_run_click(b):\n",
    "        with output:\n",
    "            output.clear_output()\n",
    "            target = target_selector.value\n",
    "            predictors = list(predictor_selector.value)\n",
    "\n",
    "            if not target or not predictors:\n",
    "                print(\"Please select a target variable and at least one predictor variable.\")\n",
    "                return\n",
    "\n",
    "            X = user_df[predictors]\n",
    "            y = user_df[target]\n",
    "\n",
    "            # Check multicollinearity using VIF\n",
    "            vif_data = pd.DataFrame()\n",
    "            X_with_const = add_constant(X)\n",
    "            vif_data[\"Feature\"] = X_with_const.columns\n",
    "            vif_data[\"VIF\"] = [variance_inflation_factor(X_with_const.values, i) for i in range(X_with_const.shape[1])]\n",
    "\n",
    "            print(\"Variance Inflation Factor (VIF):\")\n",
    "            display(vif_data)\n",
    "\n",
    "            # Fit the model using OLS\n",
    "            model = OLS(y, X_with_const).fit()\n",
    "\n",
    "            # Display OLS results\n",
    "            print(\"OLS Regression Results:\")\n",
    "            print(model.summary())\n",
    "\n",
    "            # Generate predictions\n",
    "            y_pred = model.predict(X_with_const)\n",
    "\n",
    "            # Plot residuals\n",
    "            residuals = y - y_pred\n",
    "            plt.figure(figsize=(8, 6))\n",
    "            plt.scatter(y, residuals, alpha=0.7)\n",
    "            plt.axhline(y=0, color='red', linestyle='--', linewidth=1)\n",
    "            plt.title(\"Residuals vs True Values\")\n",
    "            plt.xlabel(\"True Values\")\n",
    "            plt.ylabel(\"Residuals\")\n",
    "            plt.show()\n",
    "\n",
    "    run_button.on_click(on_run_click)\n",
    "    display(target_selector, predictor_selector, run_button, output)\n",
    "\n",
    "# Display the UI for model selection\n",
    "model_selection_ui()"
   ]
  }
 ],
 "metadata": {
  "kernelspec": {
   "display_name": "Python 3 (ipykernel)",
   "language": "python",
   "name": "python3"
  },
  "language_info": {
   "codemirror_mode": {
    "name": "ipython",
    "version": 3
   },
   "file_extension": ".py",
   "mimetype": "text/x-python",
   "name": "python",
   "nbconvert_exporter": "python",
   "pygments_lexer": "ipython3",
   "version": "3.11.5"
  }
 },
 "nbformat": 4,
 "nbformat_minor": 5
}

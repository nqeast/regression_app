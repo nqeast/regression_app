{
 "cells": [
  {
   "cell_type": "code",
   "execution_count": 16,
   "id": "6b0b0c61",
   "metadata": {},
   "outputs": [],
   "source": [
    "# SECTION 1: Setup and Imports\n",
    "import pandas as pd\n",
    "import numpy as np\n",
    "import matplotlib.pyplot as plt\n",
    "import seaborn as sns\n",
    "from sklearn.model_selection import train_test_split\n",
    "from sklearn.linear_model import LinearRegression\n",
    "from sklearn.metrics import mean_squared_error, r2_score\n",
    "from statsmodels.api import OLS, add_constant  # Import OLS for detailed regression analysis\n",
    "from statsmodels.stats.outliers_influence import variance_inflation_factor\n",
    "import ipywidgets as widgets\n",
    "from IPython.display import display\n",
    "import joblib  # Import for saving the model\n",
    "from sklearn.datasets import load_iris  # Import preloaded dataset"
   ]
  },
  {
   "cell_type": "code",
   "execution_count": 14,
   "id": "e82cd354",
   "metadata": {},
   "outputs": [
    {
     "name": "stdout",
     "output_type": "stream",
     "text": [
      "Iris Dataset Preview:\n"
     ]
    },
    {
     "data": {
      "text/html": [
       "<div>\n",
       "<style scoped>\n",
       "    .dataframe tbody tr th:only-of-type {\n",
       "        vertical-align: middle;\n",
       "    }\n",
       "\n",
       "    .dataframe tbody tr th {\n",
       "        vertical-align: top;\n",
       "    }\n",
       "\n",
       "    .dataframe thead th {\n",
       "        text-align: right;\n",
       "    }\n",
       "</style>\n",
       "<table border=\"1\" class=\"dataframe\">\n",
       "  <thead>\n",
       "    <tr style=\"text-align: right;\">\n",
       "      <th></th>\n",
       "      <th>sepal length (cm)</th>\n",
       "      <th>sepal width (cm)</th>\n",
       "      <th>petal length (cm)</th>\n",
       "      <th>petal width (cm)</th>\n",
       "      <th>target</th>\n",
       "    </tr>\n",
       "  </thead>\n",
       "  <tbody>\n",
       "    <tr>\n",
       "      <th>0</th>\n",
       "      <td>5.1</td>\n",
       "      <td>3.5</td>\n",
       "      <td>1.4</td>\n",
       "      <td>0.2</td>\n",
       "      <td>0</td>\n",
       "    </tr>\n",
       "    <tr>\n",
       "      <th>1</th>\n",
       "      <td>4.9</td>\n",
       "      <td>3.0</td>\n",
       "      <td>1.4</td>\n",
       "      <td>0.2</td>\n",
       "      <td>0</td>\n",
       "    </tr>\n",
       "    <tr>\n",
       "      <th>2</th>\n",
       "      <td>4.7</td>\n",
       "      <td>3.2</td>\n",
       "      <td>1.3</td>\n",
       "      <td>0.2</td>\n",
       "      <td>0</td>\n",
       "    </tr>\n",
       "    <tr>\n",
       "      <th>3</th>\n",
       "      <td>4.6</td>\n",
       "      <td>3.1</td>\n",
       "      <td>1.5</td>\n",
       "      <td>0.2</td>\n",
       "      <td>0</td>\n",
       "    </tr>\n",
       "    <tr>\n",
       "      <th>4</th>\n",
       "      <td>5.0</td>\n",
       "      <td>3.6</td>\n",
       "      <td>1.4</td>\n",
       "      <td>0.2</td>\n",
       "      <td>0</td>\n",
       "    </tr>\n",
       "  </tbody>\n",
       "</table>\n",
       "</div>"
      ],
      "text/plain": [
       "   sepal length (cm)  sepal width (cm)  petal length (cm)  petal width (cm)  \\\n",
       "0                5.1               3.5                1.4               0.2   \n",
       "1                4.9               3.0                1.4               0.2   \n",
       "2                4.7               3.2                1.3               0.2   \n",
       "3                4.6               3.1                1.5               0.2   \n",
       "4                5.0               3.6                1.4               0.2   \n",
       "\n",
       "   target  \n",
       "0       0  \n",
       "1       0  \n",
       "2       0  \n",
       "3       0  \n",
       "4       0  "
      ]
     },
     "metadata": {},
     "output_type": "display_data"
    }
   ],
   "source": [
    "# SECTION 2: Data Upload and Preprocessing\n",
    "def load_iris_data():\n",
    "    \"\"\"Loads the Iris dataset and prepares it.\"\"\"\n",
    "    iris = load_iris(as_frame=True)\n",
    "    df = iris.frame\n",
    "    print(\"Iris Dataset Preview:\")\n",
    "    display(df.head())\n",
    "    return df\n",
    "\n",
    "# Placeholder for loaded data\n",
    "df = load_iris_data()"
   ]
  },
  {
   "cell_type": "code",
   "execution_count": 17,
   "id": "b5890d95",
   "metadata": {},
   "outputs": [],
   "source": [
    "# SECTION 3: Preprocessing Options\n",
    "def handle_missing_values(data, method):\n",
    "    \"\"\"Handles missing values based on the selected method.\"\"\"\n",
    "    if method == 'Remove Rows':\n",
    "        return data.dropna()\n",
    "    elif method == 'Impute Mean':\n",
    "        return data.fillna(data.mean())\n",
    "    elif method == 'Impute Median':\n",
    "        return data.fillna(data.median())\n",
    "    else:  # No Missing Values\n",
    "        return data\n",
    "\n",
    "def handle_duplicates(data, remove):\n",
    "    \"\"\"Handles duplicate rows based on the selected option.\"\"\"\n",
    "    if remove:\n",
    "        return data.drop_duplicates()\n",
    "    return data\n",
    "\n",
    "def scale_features(data, method):\n",
    "    \"\"\"Scales features based on the selected method.\"\"\"\n",
    "    if method == 'Normalize':\n",
    "        return (data - data.min()) / (data.max() - data.min())\n",
    "    elif method == 'Standardize':\n",
    "        return (data - data.mean()) / data.std()\n",
    "    return data\n",
    "\n",
    "def check_multicollinearity(X):\n",
    "    \"\"\"Checks for multicollinearity using Variance Inflation Factor (VIF).\"\"\"\n",
    "    if X.shape[1] == 0:\n",
    "        print(\"No predictors available for multicollinearity check.\")\n",
    "        return pd.DataFrame()\n",
    "    \n",
    "    vif_data = pd.DataFrame()\n",
    "    vif_data[\"Feature\"] = X.columns\n",
    "    vif_data[\"VIF\"] = [variance_inflation_factor(X.values, i) for i in range(X.shape[1])]\n",
    "    print(\"Multicollinearity Check (VIF):\")\n",
    "    display(vif_data)\n",
    "    return vif_data"
   ]
  },
  {
   "cell_type": "code",
   "execution_count": 18,
   "id": "6b8f5a74",
   "metadata": {},
   "outputs": [],
   "source": [
    "# SECTION 4: Model Selection and Training\n",
    "def train_simple_model(data, target_col, predictor_col, metric):\n",
    "    \"\"\"Trains a Simple Linear Regression model.\"\"\"\n",
    "    X = data[[predictor_col]]\n",
    "    y = data[target_col]\n",
    "    \n",
    "    # Train-test split\n",
    "    X_train, X_test, y_train, y_test = train_test_split(X, y, test_size=0.2, random_state=42)\n",
    "    \n",
    "    model = LinearRegression()\n",
    "    model.fit(X_train, y_train)\n",
    "    \n",
    "    # Predictions\n",
    "    y_pred = model.predict(X_test)\n",
    "    \n",
    "    # Metric Calculation\n",
    "    if metric == 'MSE':\n",
    "        mse = mean_squared_error(y_test, y_pred)\n",
    "        print(f\"Mean Squared Error: {mse}\")\n",
    "    elif metric == 'RMSE':\n",
    "        rmse = mean_squared_error(y_test, y_pred, squared=False)\n",
    "        print(f\"Root Mean Squared Error: {rmse}\")\n",
    "    elif metric == 'R²':\n",
    "        r_squared = r2_score(y_test, y_pred)\n",
    "        print(f\"R² (Coefficient of Determination): {r_squared}\")\n",
    "    else:\n",
    "        print(\"Unsupported metric selected.\")\n",
    "    \n",
    "    # Visualization\n",
    "    plt.scatter(y_test, y_pred)\n",
    "    plt.xlabel(\"True Values\")\n",
    "    plt.ylabel(\"Predictions\")\n",
    "    plt.title(\"Simple Linear Regression Predictions vs True Values\")\n",
    "    plt.show()\n",
    "\n",
    "    return model\n",
    "\n",
    "def train_multi_model(data, target_col, predictor_cols, metric):\n",
    "    \"\"\"Trains a Multiple Linear Regression model using statsmodels OLS after checking multicollinearity.\"\"\"\n",
    "    X = data[predictor_cols]\n",
    "    y = data[target_col]\n",
    "\n",
    "    # Multicollinearity Check\n",
    "    vif_result = check_multicollinearity(X)\n",
    "    if vif_result.empty:\n",
    "        print(\"Skipping model training due to issues with predictors.\")\n",
    "        return None\n",
    "\n",
    "    # Add constant for OLS\n",
    "    X = add_constant(X)\n",
    "\n",
    "    # Train the model using OLS\n",
    "    model = OLS(y, X).fit()\n",
    "    print(model.summary())\n",
    "\n",
    "    # Predictions\n",
    "    y_pred = model.predict(X)\n",
    "\n",
    "    # Metric Calculation (Train Set Metrics since OLS does not split data)\n",
    "    if metric == 'MSE':\n",
    "        mse = mean_squared_error(y, y_pred)\n",
    "        print(f\"Mean Squared Error: {mse}\")\n",
    "    elif metric == 'RMSE':\n",
    "        rmse = mean_squared_error(y, y_pred, squared=False)\n",
    "        print(f\"Root Mean Squared Error: {rmse}\")\n",
    "    elif metric == 'R²':\n",
    "        r_squared = r2_score(y, y_pred)\n",
    "        print(f\"R² (Coefficient of Determination): {r_squared}\")\n",
    "    else:\n",
    "        print(\"Unsupported metric selected.\")\n",
    "\n",
    "    # Visualization\n",
    "    plt.scatter(y, y_pred)\n",
    "    plt.xlabel(\"True Values\")\n",
    "    plt.ylabel(\"Predictions\")\n",
    "    plt.title(\"Multiple Linear Regression Predictions vs True Values\")\n",
    "    plt.show()\n",
    "\n",
    "    return model"
   ]
  },
  {
   "cell_type": "code",
   "execution_count": 19,
   "id": "43d75d5c",
   "metadata": {},
   "outputs": [
    {
     "data": {
      "application/vnd.jupyter.widget-view+json": {
       "model_id": "43775d3ff6d244be85c640aaca81801c",
       "version_major": 2,
       "version_minor": 0
      },
      "text/plain": [
       "Dropdown(description='Missing Values:', options=('No Missing Values', 'Remove Rows', 'Impute Mean', 'Impute Me…"
      ]
     },
     "metadata": {},
     "output_type": "display_data"
    },
    {
     "data": {
      "application/vnd.jupyter.widget-view+json": {
       "model_id": "af13b9648cf0418395de0e4ccb145316",
       "version_major": 2,
       "version_minor": 0
      },
      "text/plain": [
       "ToggleButtons(description='Remove Duplicates:', options=('No', 'Yes'), value='No')"
      ]
     },
     "metadata": {},
     "output_type": "display_data"
    },
    {
     "data": {
      "application/vnd.jupyter.widget-view+json": {
       "model_id": "12958549d3c5483bb39afc8b216cc7ff",
       "version_major": 2,
       "version_minor": 0
      },
      "text/plain": [
       "Dropdown(description='Target:', options=('sepal length (cm)', 'sepal width (cm)', 'petal length (cm)', 'petal …"
      ]
     },
     "metadata": {},
     "output_type": "display_data"
    },
    {
     "data": {
      "application/vnd.jupyter.widget-view+json": {
       "model_id": "f34bbc17a58345cdb511638a2eb20dc2",
       "version_major": 2,
       "version_minor": 0
      },
      "text/plain": [
       "SelectMultiple(description='Predictors:', index=(0, 1, 2), options=('sepal length (cm)', 'sepal width (cm)', '…"
      ]
     },
     "metadata": {},
     "output_type": "display_data"
    },
    {
     "data": {
      "application/vnd.jupyter.widget-view+json": {
       "model_id": "f493f9cfb1094f4a8510766281e1b34f",
       "version_major": 2,
       "version_minor": 0
      },
      "text/plain": [
       "Dropdown(description='Single Predictor:', options=('sepal length (cm)', 'sepal width (cm)', 'petal length (cm)…"
      ]
     },
     "metadata": {},
     "output_type": "display_data"
    },
    {
     "data": {
      "application/vnd.jupyter.widget-view+json": {
       "model_id": "f4f1c17e2ee744a99e4bfe6f071a2509",
       "version_major": 2,
       "version_minor": 0
      },
      "text/plain": [
       "Dropdown(description='Scaling:', options=('Don’t Scale', 'Normalize', 'Standardize'), value='Don’t Scale')"
      ]
     },
     "metadata": {},
     "output_type": "display_data"
    },
    {
     "data": {
      "application/vnd.jupyter.widget-view+json": {
       "model_id": "720f0b6e3b314fe2b2d9f04f9994a3d0",
       "version_major": 2,
       "version_minor": 0
      },
      "text/plain": [
       "Dropdown(description='Metric:', options=('MSE', 'RMSE', 'R²'), value='MSE')"
      ]
     },
     "metadata": {},
     "output_type": "display_data"
    },
    {
     "data": {
      "application/vnd.jupyter.widget-view+json": {
       "model_id": "6ae249cf895a47778b8101a39a9ed82a",
       "version_major": 2,
       "version_minor": 0
      },
      "text/plain": [
       "Dropdown(description='Model Type:', options=('Simple Linear Regression', 'Multiple Linear Regression'), value=…"
      ]
     },
     "metadata": {},
     "output_type": "display_data"
    },
    {
     "data": {
      "application/vnd.jupyter.widget-view+json": {
       "model_id": "a54589e76d5e48fc8588ddd0bfaf3039",
       "version_major": 2,
       "version_minor": 0
      },
      "text/plain": [
       "Button(description='Run Model', style=ButtonStyle())"
      ]
     },
     "metadata": {},
     "output_type": "display_data"
    },
    {
     "data": {
      "application/vnd.jupyter.widget-view+json": {
       "model_id": "b7fbeb2f10ba4a0d9f464b3e75516f65",
       "version_major": 2,
       "version_minor": 0
      },
      "text/plain": [
       "Button(description='Clear Model', style=ButtonStyle())"
      ]
     },
     "metadata": {},
     "output_type": "display_data"
    },
    {
     "name": "stdout",
     "output_type": "stream",
     "text": [
      "Multicollinearity Check (VIF):\n"
     ]
    },
    {
     "data": {
      "text/html": [
       "<div>\n",
       "<style scoped>\n",
       "    .dataframe tbody tr th:only-of-type {\n",
       "        vertical-align: middle;\n",
       "    }\n",
       "\n",
       "    .dataframe tbody tr th {\n",
       "        vertical-align: top;\n",
       "    }\n",
       "\n",
       "    .dataframe thead th {\n",
       "        text-align: right;\n",
       "    }\n",
       "</style>\n",
       "<table border=\"1\" class=\"dataframe\">\n",
       "  <thead>\n",
       "    <tr style=\"text-align: right;\">\n",
       "      <th></th>\n",
       "      <th>Feature</th>\n",
       "      <th>VIF</th>\n",
       "    </tr>\n",
       "  </thead>\n",
       "  <tbody>\n",
       "    <tr>\n",
       "      <th>0</th>\n",
       "      <td>sepal length (cm)</td>\n",
       "      <td>22.993699</td>\n",
       "    </tr>\n",
       "    <tr>\n",
       "      <th>1</th>\n",
       "      <td>sepal width (cm)</td>\n",
       "      <td>22.993699</td>\n",
       "    </tr>\n",
       "  </tbody>\n",
       "</table>\n",
       "</div>"
      ],
      "text/plain": [
       "             Feature        VIF\n",
       "0  sepal length (cm)  22.993699\n",
       "1   sepal width (cm)  22.993699"
      ]
     },
     "metadata": {},
     "output_type": "display_data"
    },
    {
     "name": "stdout",
     "output_type": "stream",
     "text": [
      "Multicollinearity Check (VIF):\n"
     ]
    },
    {
     "data": {
      "text/html": [
       "<div>\n",
       "<style scoped>\n",
       "    .dataframe tbody tr th:only-of-type {\n",
       "        vertical-align: middle;\n",
       "    }\n",
       "\n",
       "    .dataframe tbody tr th {\n",
       "        vertical-align: top;\n",
       "    }\n",
       "\n",
       "    .dataframe thead th {\n",
       "        text-align: right;\n",
       "    }\n",
       "</style>\n",
       "<table border=\"1\" class=\"dataframe\">\n",
       "  <thead>\n",
       "    <tr style=\"text-align: right;\">\n",
       "      <th></th>\n",
       "      <th>Feature</th>\n",
       "      <th>VIF</th>\n",
       "    </tr>\n",
       "  </thead>\n",
       "  <tbody>\n",
       "    <tr>\n",
       "      <th>0</th>\n",
       "      <td>sepal length (cm)</td>\n",
       "      <td>22.993699</td>\n",
       "    </tr>\n",
       "    <tr>\n",
       "      <th>1</th>\n",
       "      <td>sepal width (cm)</td>\n",
       "      <td>22.993699</td>\n",
       "    </tr>\n",
       "  </tbody>\n",
       "</table>\n",
       "</div>"
      ],
      "text/plain": [
       "             Feature        VIF\n",
       "0  sepal length (cm)  22.993699\n",
       "1   sepal width (cm)  22.993699"
      ]
     },
     "metadata": {},
     "output_type": "display_data"
    },
    {
     "name": "stdout",
     "output_type": "stream",
     "text": [
      "                            OLS Regression Results                            \n",
      "==============================================================================\n",
      "Dep. Variable:      petal length (cm)   R-squared:                       0.868\n",
      "Model:                            OLS   Adj. R-squared:                  0.866\n",
      "Method:                 Least Squares   F-statistic:                     482.0\n",
      "Date:                Fri, 24 Jan 2025   Prob (F-statistic):           2.74e-65\n",
      "Time:                        09:19:09   Log-Likelihood:                -145.89\n",
      "No. Observations:                 150   AIC:                             297.8\n",
      "Df Residuals:                     147   BIC:                             306.8\n",
      "Df Model:                           2                                         \n",
      "Covariance Type:            nonrobust                                         \n",
      "=====================================================================================\n",
      "                        coef    std err          t      P>|t|      [0.025      0.975]\n",
      "-------------------------------------------------------------------------------------\n",
      "const                -2.5248      0.563     -4.481      0.000      -3.638      -1.411\n",
      "sepal length (cm)     1.7756      0.064     27.569      0.000       1.648       1.903\n",
      "sepal width (cm)     -1.3386      0.122    -10.940      0.000      -1.580      -1.097\n",
      "==============================================================================\n",
      "Omnibus:                        3.776   Durbin-Watson:                   1.671\n",
      "Prob(Omnibus):                  0.151   Jarque-Bera (JB):                3.833\n",
      "Skew:                           0.372   Prob(JB):                        0.147\n",
      "Kurtosis:                       2.755   Cond. No.                         72.8\n",
      "==============================================================================\n",
      "\n",
      "Notes:\n",
      "[1] Standard Errors assume that the covariance matrix of the errors is correctly specified.\n",
      "R² (Coefficient of Determination): 0.8676860089345194\n"
     ]
    },
    {
     "data": {
      "image/png": "[encoded data removed]",
      "text/plain": [
       "<Figure size 640x480 with 1 Axes>"
      ]
     },
     "metadata": {},
     "output_type": "display_data"
    },
    {
     "name": "stdout",
     "output_type": "stream",
     "text": [
      "Model cleared. You can now train a new model.\n",
      "R² (Coefficient of Determination): 0.9285735546218209\n"
     ]
    },
    {
     "data": {
      "image/png": "[encoded data removed]",
      "text/plain": [
       "<Figure size 640x480 with 1 Axes>"
      ]
     },
     "metadata": {},
     "output_type": "display_data"
    }
   ],
   "source": [
    "# SECTION 5: Interactive Widgets\n",
    "def interactive_ui():\n",
    "    \"\"\"Creates an interactive UI for testing the app logic.\"\"\"\n",
    "\n",
    "    missing_selector = widgets.Dropdown(\n",
    "        options=['No Missing Values', 'Remove Rows', 'Impute Mean', 'Impute Median'],\n",
    "        value='No Missing Values',\n",
    "        description='Missing Values:'\n",
    "    )\n",
    "\n",
    "    duplicates_selector = widgets.ToggleButtons(\n",
    "        options=['No', 'Yes'],\n",
    "        description='Remove Duplicates:',\n",
    "        disabled=False\n",
    "    )\n",
    "\n",
    "    target_selector = widgets.Dropdown(\n",
    "        options=df.select_dtypes(include=[np.number]).columns.tolist(),\n",
    "        value=df.select_dtypes(include=[np.number]).columns.tolist()[0],  # Default to the first numerical column\n",
    "        description='Target:'\n",
    "    )\n",
    "    \n",
    "    predictor_selector = widgets.SelectMultiple(\n",
    "        options=df.columns.tolist(),\n",
    "        value=df.columns[:-1].tolist()[:3],  # Default to first three columns as predictors\n",
    "        description='Predictors:'\n",
    "    )\n",
    "\n",
    "    single_predictor_selector = widgets.Dropdown(\n",
    "        options=df.columns.tolist(),\n",
    "        value=df.columns[0],\n",
    "        description='Single Predictor:'\n",
    "    )\n",
    "\n",
    "    scaling_selector = widgets.Dropdown(\n",
    "        options=['Don’t Scale', 'Normalize', 'Standardize'],\n",
    "        value='Don’t Scale',\n",
    "        description='Scaling:'\n",
    "    )\n",
    "    \n",
    "    metric_selector = widgets.Dropdown(\n",
    "        options=['MSE', 'RMSE', 'R²'],\n",
    "        value='MSE',\n",
    "        description='Metric:'\n",
    "    )\n",
    "\n",
    "    model_selector = widgets.Dropdown(\n",
    "        options=['Simple Linear Regression', 'Multiple Linear Regression'],\n",
    "        value='Simple Linear Regression',\n",
    "        description='Model Type:'\n",
    "    )\n",
    "\n",
    "    run_button = widgets.Button(description=\"Run Model\")\n",
    "    clear_button = widgets.Button(description=\"Clear Model\")\n",
    "\n",
    "    display(missing_selector, duplicates_selector, target_selector, predictor_selector, single_predictor_selector, scaling_selector, metric_selector, model_selector, run_button, clear_button)\n",
    "\n",
    "    def on_run_button_click(b):\n",
    "        if df is not None and target_selector.value:\n",
    "            data = df.copy()\n",
    "\n",
    "            # Handle missing values\n",
    "            data = handle_missing_values(data, missing_selector.value)\n",
    "\n",
    "            # Handle duplicates\n",
    "            data = handle_duplicates(data, duplicates_selector.value == 'Yes')\n",
    "\n",
    "            if model_selector.value == 'Simple Linear Regression':\n",
    "                # Simple Linear Regression\n",
    "                if not single_predictor_selector.value:\n",
    "                    print(\"Please select a single predictor for Simple Linear Regression.\")\n",
    "                    return\n",
    "\n",
    "                predictor = single_predictor_selector.value\n",
    "                data[predictor] = scale_features(data[[predictor]], scaling_selector.value)\n",
    "                model = train_simple_model(data, target_col=target_selector.value, predictor_col=predictor, metric=metric_selector.value)\n",
    "\n",
    "            elif model_selector.value == 'Multiple Linear Regression':\n",
    "                # Multiple Linear Regression\n",
    "                predictors = list(predictor_selector.value)\n",
    "                if len(predictors) == 0:\n",
    "                    print(\"Please select at least one predictor for Multiple Linear Regression.\")\n",
    "                    return\n",
    "\n",
    "                data[predictors] = scale_features(data[predictors], scaling_selector.value)\n",
    "\n",
    "                # Multicollinearity Check\n",
    "                vif_result = check_multicollinearity(data[predictors])\n",
    "                if vif_result.empty:\n",
    "                    print(\"Skipping model training due to issues with predictors.\")\n",
    "                    return\n",
    "\n",
    "                model = train_multi_model(data, target_col=target_selector.value, predictor_cols=predictors, metric=metric_selector.value)\n",
    "\n",
    "    def on_clear_button_click(b):\n",
    "        print(\"Model cleared. You can now train a new model.\")\n",
    "\n",
    "    run_button.on_click(on_run_button_click)\n",
    "    clear_button.on_click(on_clear_button_click)\n",
    "\n",
    "# Run interactive UI\n",
    "interactive_ui()"
   ]
  }
 ],
 "metadata": {
  "kernelspec": {
   "display_name": "Python 3 (ipykernel)",
   "language": "python",
   "name": "python3"
  },
  "language_info": {
   "codemirror_mode": {
    "name": "ipython",
    "version": 3
   },
   "file_extension": ".py",
   "mimetype": "text/x-python",
   "name": "python",
   "nbconvert_exporter": "python",
   "pygments_lexer": "ipython3",
   "version": "3.11.5"
  }
 },
 "nbformat": 4,
 "nbformat_minor": 5
}

{
 "cells": [
  {
   "cell_type": "code",
   "execution_count": 1,
   "id": "064bdbfa",
   "metadata": {},
   "outputs": [],
   "source": [
    "# SECTION 1: Setup and Imports\n",
    "import pandas as pd\n",
    "import numpy as np\n",
    "import matplotlib.pyplot as plt\n",
    "import seaborn as sns\n",
    "from sklearn.model_selection import train_test_split\n",
    "from sklearn.linear_model import LinearRegression\n",
    "from sklearn.metrics import mean_squared_error, r2_score\n",
    "from statsmodels.api import OLS, add_constant  # Import OLS for detailed regression analysis\n",
    "from statsmodels.stats.outliers_influence import variance_inflation_factor\n",
    "import ipywidgets as widgets\n",
    "from IPython.display import display\n",
    "import joblib  # Import for saving the model\n",
    "from io import BytesIO\n",
    "import os"
   ]
  },
  {
   "cell_type": "code",
   "execution_count": 6,
   "id": "4a82cf89",
   "metadata": {},
   "outputs": [],
   "source": [
    "# SECTION 1: Data Upload\n",
    "def upload_data_ui():\n",
    "    \"\"\"UI for uploading data and displaying the preview.\"\"\"\n",
    "    upload_widget = widgets.FileUpload(accept='.csv', multiple=False)\n",
    "    output = widgets.Output()\n",
    "\n",
    "    def on_upload_change(change):\n",
    "        global user_df\n",
    "        if upload_widget.value:\n",
    "            try:\n",
    "                # Extract the uploaded file\n",
    "                uploaded_file = list(upload_widget.value.values())[0]\n",
    "                content = uploaded_file['content']\n",
    "\n",
    "                # Read the CSV file into a DataFrame\n",
    "                user_df = pd.read_csv(BytesIO(content))\n",
    "\n",
    "                # Display a preview of the dataset\n",
    "                with output:\n",
    "                    output.clear_output()\n",
    "                    print(\"Dataset Preview:\")\n",
    "                    display(user_df.head())\n",
    "            except Exception as e:\n",
    "                with output:\n",
    "                    output.clear_output()\n",
    "                    print(f\"Error loading file: {e}\")\n",
    "\n",
    "    upload_widget.observe(on_upload_change, names='value')\n",
    "    display(upload_widget, output)\n",
    "\n",
    "# Placeholder for user-uploaded data\n",
    "user_df = pd.DataFrame()"
   ]
  },
  {
   "cell_type": "code",
   "execution_count": 3,
   "id": "4c09631d",
   "metadata": {},
   "outputs": [],
   "source": [
    "# Placeholder for uploaded data\n",
    "df = None  # Replace with the upload_data function later."
   ]
  },
  {
   "cell_type": "code",
   "execution_count": 4,
   "id": "b48eaf62",
   "metadata": {},
   "outputs": [],
   "source": [
    "# SECTION 4: Model Selection and Training\n",
    "def train_simple_model(data, target_col, predictor_col, metric):\n",
    "    \"\"\"Trains a Simple Linear Regression model.\"\"\"\n",
    "    X = data[[predictor_col]]\n",
    "    y = data[target_col]\n",
    "    \n",
    "    # Train-test split\n",
    "    X_train, X_test, y_train, y_test = train_test_split(X, y, test_size=0.2, random_state=42)\n",
    "    \n",
    "    model = LinearRegression()\n",
    "    model.fit(X_train, y_train)\n",
    "    \n",
    "    # Predictions\n",
    "    y_pred = model.predict(X_test)\n",
    "    \n",
    "    # Metric Calculation\n",
    "    if metric == 'MSE':\n",
    "        mse = mean_squared_error(y_test, y_pred)\n",
    "        print(f\"Mean Squared Error: {mse}\")\n",
    "    elif metric == 'RMSE':\n",
    "        rmse = mean_squared_error(y_test, y_pred, squared=False)\n",
    "        print(f\"Root Mean Squared Error: {rmse}\")\n",
    "    elif metric == 'R²':\n",
    "        r_squared = r2_score(y_test, y_pred)\n",
    "        print(f\"R² (Coefficient of Determination): {r_squared}\")\n",
    "    else:\n",
    "        print(\"Unsupported metric selected.\")\n",
    "    \n",
    "    # Visualization\n",
    "    plt.scatter(y_test, y_pred)\n",
    "    plt.xlabel(\"True Values\")\n",
    "    plt.ylabel(\"Predictions\")\n",
    "    plt.title(\"Simple Linear Regression Predictions vs True Values\")\n",
    "    plt.show()\n",
    "\n",
    "    return model\n",
    "\n",
    "def train_multi_model(data, target_col, predictor_cols, metric):\n",
    "    \"\"\"Trains a Multiple Linear Regression model using statsmodels OLS after checking multicollinearity.\"\"\"\n",
    "    X = data[predictor_cols]\n",
    "    y = data[target_col]\n",
    "\n",
    "    # Multicollinearity Check\n",
    "    vif_result = check_multicollinearity(X)\n",
    "    if vif_result.empty:\n",
    "        print(\"Skipping model training due to issues with predictors.\")\n",
    "        return None\n",
    "\n",
    "    # Add constant for OLS\n",
    "    X = add_constant(X)\n",
    "\n",
    "    # Train the model using OLS\n",
    "    model = OLS(y, X).fit()\n",
    "    print(model.summary())\n",
    "\n",
    "    # Predictions\n",
    "    y_pred = model.predict(X)\n",
    "\n",
    "    # Metric Calculation (Train Set Metrics since OLS does not split data)\n",
    "    if metric == 'MSE':\n",
    "        mse = mean_squared_error(y, y_pred)\n",
    "        print(f\"Mean Squared Error: {mse}\")\n",
    "    elif metric == 'RMSE':\n",
    "        rmse = mean_squared_error(y, y_pred, squared=False)\n",
    "        print(f\"Root Mean Squared Error: {rmse}\")\n",
    "    elif metric == 'R²':\n",
    "        r_squared = r2_score(y, y_pred)\n",
    "        print(f\"R² (Coefficient of Determination): {r_squared}\")\n",
    "    else:\n",
    "        print(\"Unsupported metric selected.\")\n",
    "\n",
    "    # Visualization\n",
    "    plt.scatter(y, y_pred)\n",
    "    plt.xlabel(\"True Values\")\n",
    "    plt.ylabel(\"Predictions\")\n",
    "    plt.title(\"Multiple Linear Regression Predictions vs True Values\")\n",
    "    plt.show()\n",
    "\n",
    "    return model"
   ]
  },
  {
   "cell_type": "code",
   "execution_count": 5,
   "id": "92210a07",
   "metadata": {},
   "outputs": [
    {
     "data": {
      "application/vnd.jupyter.widget-view+json": {
       "model_id": "4fd5de40d4434f24bfe86c103e8819be",
       "version_major": 2,
       "version_minor": 0
      },
      "text/plain": [
       "FileUpload(value=(), accept='.csv', description='Upload')"
      ]
     },
     "metadata": {},
     "output_type": "display_data"
    },
    {
     "data": {
      "application/vnd.jupyter.widget-view+json": {
       "model_id": "2f95511f6d364a72a13995b2feb61b7c",
       "version_major": 2,
       "version_minor": 0
      },
      "text/plain": [
       "Output()"
      ]
     },
     "metadata": {},
     "output_type": "display_data"
    },
    {
     "data": {
      "application/vnd.jupyter.widget-view+json": {
       "model_id": "6e18d49858ef494eb42effabbc0f692a",
       "version_major": 2,
       "version_minor": 0
      },
      "text/plain": [
       "Dropdown(description='Missing Values:', options=('No Missing Values', 'Remove Rows', 'Impute Mean', 'Impute Me…"
      ]
     },
     "metadata": {},
     "output_type": "display_data"
    },
    {
     "data": {
      "application/vnd.jupyter.widget-view+json": {
       "model_id": "4752f5db72bf42d59fd68c957c6a105e",
       "version_major": 2,
       "version_minor": 0
      },
      "text/plain": [
       "ToggleButtons(description='Remove Duplicates:', options=('No', 'Yes'), value='No')"
      ]
     },
     "metadata": {},
     "output_type": "display_data"
    },
    {
     "data": {
      "application/vnd.jupyter.widget-view+json": {
       "model_id": "29220075e57b4581a7bc299cc9a4a188",
       "version_major": 2,
       "version_minor": 0
      },
      "text/plain": [
       "Dropdown(description='Target:', options=(), value=None)"
      ]
     },
     "metadata": {},
     "output_type": "display_data"
    },
    {
     "data": {
      "application/vnd.jupyter.widget-view+json": {
       "model_id": "96e59892394847b1bbe8db70ade540bf",
       "version_major": 2,
       "version_minor": 0
      },
      "text/plain": [
       "SelectMultiple(description='Predictors:', options=(), value=())"
      ]
     },
     "metadata": {},
     "output_type": "display_data"
    },
    {
     "data": {
      "application/vnd.jupyter.widget-view+json": {
       "model_id": "83181ce756fb4314bec4bdd0d31b9f22",
       "version_major": 2,
       "version_minor": 0
      },
      "text/plain": [
       "Dropdown(description='Single Predictor:', options=(), value=None)"
      ]
     },
     "metadata": {},
     "output_type": "display_data"
    },
    {
     "data": {
      "application/vnd.jupyter.widget-view+json": {
       "model_id": "a83f353fa58d456cadeebd860c551ef7",
       "version_major": 2,
       "version_minor": 0
      },
      "text/plain": [
       "Dropdown(description='Scaling:', options=('Don’t Scale', 'Normalize', 'Standardize'), value='Don’t Scale')"
      ]
     },
     "metadata": {},
     "output_type": "display_data"
    },
    {
     "data": {
      "application/vnd.jupyter.widget-view+json": {
       "model_id": "cb48856ebcd349b793296abe9357e849",
       "version_major": 2,
       "version_minor": 0
      },
      "text/plain": [
       "Dropdown(description='Metric:', options=('MSE', 'RMSE', 'R²'), value='MSE')"
      ]
     },
     "metadata": {},
     "output_type": "display_data"
    },
    {
     "data": {
      "application/vnd.jupyter.widget-view+json": {
       "model_id": "41326d8d96ec4512b0b537d31b880c77",
       "version_major": 2,
       "version_minor": 0
      },
      "text/plain": [
       "Dropdown(description='Model Type:', options=('Simple Linear Regression', 'Multiple Linear Regression'), value=…"
      ]
     },
     "metadata": {},
     "output_type": "display_data"
    },
    {
     "data": {
      "application/vnd.jupyter.widget-view+json": {
       "model_id": "3eb4eb63ee0d4ea693156485c5a4527f",
       "version_major": 2,
       "version_minor": 0
      },
      "text/plain": [
       "Button(description='Run Model', style=ButtonStyle())"
      ]
     },
     "metadata": {},
     "output_type": "display_data"
    },
    {
     "data": {
      "application/vnd.jupyter.widget-view+json": {
       "model_id": "d3534286808e4becaa9174a691202473",
       "version_major": 2,
       "version_minor": 0
      },
      "text/plain": [
       "Button(description='Clear Model', style=ButtonStyle())"
      ]
     },
     "metadata": {},
     "output_type": "display_data"
    },
    {
     "name": "stdout",
     "output_type": "stream",
     "text": [
      "No data loaded. Please upload a valid dataset.\n",
      "Error loading file: 'tuple' object has no attribute 'values'\n"
     ]
    }
   ],
   "source": [
    "# SECTION 5: Interactive Widgets\n",
    "def interactive_ui():\n",
    "    \"\"\"Creates an interactive UI for testing the app logic.\"\"\"\n",
    "\n",
    "    load_user_data()  # Allow user to upload dataset\n",
    "\n",
    "    missing_selector = widgets.Dropdown(\n",
    "        options=['No Missing Values', 'Remove Rows', 'Impute Mean', 'Impute Median'],\n",
    "        value='No Missing Values',\n",
    "        description='Missing Values:'\n",
    "    )\n",
    "\n",
    "    duplicates_selector = widgets.ToggleButtons(\n",
    "        options=['No', 'Yes'],\n",
    "        description='Remove Duplicates:',\n",
    "        disabled=False\n",
    "    )\n",
    "\n",
    "    target_selector = widgets.Dropdown(\n",
    "        options=[],  # Populated after user uploads data\n",
    "        description='Target:'\n",
    "    )\n",
    "\n",
    "    predictor_selector = widgets.SelectMultiple(\n",
    "        options=[],  # Populated after user uploads data\n",
    "        description='Predictors:'\n",
    "    )\n",
    "\n",
    "    single_predictor_selector = widgets.Dropdown(\n",
    "        options=[],  # Populated after user uploads data\n",
    "        description='Single Predictor:'\n",
    "    )\n",
    "\n",
    "    scaling_selector = widgets.Dropdown(\n",
    "        options=['Don’t Scale', 'Normalize', 'Standardize'],\n",
    "        value='Don’t Scale',\n",
    "        description='Scaling:'\n",
    "    )\n",
    "\n",
    "    metric_selector = widgets.Dropdown(\n",
    "        options=['MSE', 'RMSE', 'R²'],\n",
    "        value='MSE',\n",
    "        description='Metric:'\n",
    "    )\n",
    "\n",
    "    model_selector = widgets.Dropdown(\n",
    "        options=['Simple Linear Regression', 'Multiple Linear Regression'],\n",
    "        value='Simple Linear Regression',\n",
    "        description='Model Type:'\n",
    "    )\n",
    "\n",
    "    run_button = widgets.Button(description=\"Run Model\")\n",
    "    clear_button = widgets.Button(description=\"Clear Model\")\n",
    "\n",
    "    display(\n",
    "        missing_selector,\n",
    "        duplicates_selector,\n",
    "        target_selector,\n",
    "        predictor_selector,\n",
    "        single_predictor_selector,\n",
    "        scaling_selector,\n",
    "        metric_selector,\n",
    "        model_selector,\n",
    "        run_button,\n",
    "        clear_button\n",
    "    )\n",
    "\n",
    "    def update_dropdowns():\n",
    "        \"\"\"Updates dropdowns dynamically after dataset upload.\"\"\"\n",
    "        if not user_df.empty:\n",
    "            target_selector.options = user_df.select_dtypes(include=[np.number]).columns.tolist()\n",
    "            single_predictor_selector.options = user_df.columns.tolist()\n",
    "            predictor_selector.options = user_df.columns.tolist()\n",
    "        else:\n",
    "            print(\"No data loaded. Please upload a valid dataset.\")\n",
    "\n",
    "    def on_run_button_click(b):\n",
    "        if user_df.empty:\n",
    "            print(\"Please upload a dataset to proceed.\")\n",
    "            return\n",
    "\n",
    "        update_dropdowns()  # Ensure dropdowns are updated\n",
    "\n",
    "        if target_selector.value:\n",
    "            data = user_df.copy()\n",
    "\n",
    "            # Handle missing values\n",
    "            data = handle_missing_values(data, missing_selector.value)\n",
    "\n",
    "            # Handle duplicates\n",
    "            data = handle_duplicates(data, duplicates_selector.value == 'Yes')\n",
    "\n",
    "            if model_selector.value == 'Simple Linear Regression':\n",
    "                # Simple Linear Regression\n",
    "                if not single_predictor_selector.value:\n",
    "                    print(\"Please select a single predictor for Simple Linear Regression.\")\n",
    "                    return\n",
    "\n",
    "                predictor = single_predictor_selector.value\n",
    "                data[predictor] = scale_features(data[[predictor]], scaling_selector.value)\n",
    "                model = train_simple_model(\n",
    "                    data,\n",
    "                    target_col=target_selector.value,\n",
    "                    predictor_col=predictor,\n",
    "                    metric=metric_selector.value\n",
    "                )\n",
    "\n",
    "            elif model_selector.value == 'Multiple Linear Regression':\n",
    "                # Multiple Linear Regression\n",
    "                predictors = list(predictor_selector.value)\n",
    "                if len(predictors) == 0:\n",
    "                    print(\"Please select at least one predictor for Multiple Linear Regression.\")\n",
    "                    return\n",
    "\n",
    "                data[predictors] = scale_features(data[predictors], scaling_selector.value)\n",
    "\n",
    "                # Multicollinearity Check\n",
    "                vif_result = check_multicollinearity(data[predictors])\n",
    "                if vif_result.empty:\n",
    "                    print(\"Skipping model training due to issues with predictors.\")\n",
    "                    return\n",
    "\n",
    "                model = train_multi_model(\n",
    "                    data,\n",
    "                    target_col=target_selector.value,\n",
    "                    predictor_cols=predictors,\n",
    "                    metric=metric_selector.value\n",
    "                )\n",
    "\n",
    "    def on_clear_button_click(b):\n",
    "        print(\"Model cleared. You can now train a new model.\")\n",
    "\n",
    "    run_button.on_click(on_run_button_click)\n",
    "    clear_button.on_click(on_clear_button_click)\n",
    "\n",
    "    # Update dropdowns when a dataset is loaded\n",
    "    update_dropdowns()\n",
    "\n",
    "# Run interactive UI\n",
    "interactive_ui()"
   ]
  },
  {
   "cell_type": "code",
   "execution_count": null,
   "id": "6245efbe",
   "metadata": {},
   "outputs": [],
   "source": []
  }
 ],
 "metadata": {
  "kernelspec": {
   "display_name": "Python 3 (ipykernel)",
   "language": "python",
   "name": "python3"
  },
  "language_info": {
   "codemirror_mode": {
    "name": "ipython",
    "version": 3
   },
   "file_extension": ".py",
   "mimetype": "text/x-python",
   "name": "python",
   "nbconvert_exporter": "python",
   "pygments_lexer": "ipython3",
   "version": "3.11.5"
  }
 },
 "nbformat": 4,
 "nbformat_minor": 5
}
